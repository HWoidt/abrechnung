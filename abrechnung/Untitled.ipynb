{
 "cells": [
  {
   "cell_type": "code",
   "execution_count": 1,
   "metadata": {
    "collapsed": true
   },
   "outputs": [],
   "source": [
    "import test"
   ]
  },
  {
   "cell_type": "code",
   "execution_count": 2,
   "metadata": {
    "collapsed": true
   },
   "outputs": [],
   "source": [
    "from importlib import reload"
   ]
  },
  {
   "cell_type": "code",
   "execution_count": 3,
   "metadata": {
    "collapsed": false
   },
   "outputs": [
    {
     "data": {
      "text/plain": [
       "<module 'test' from 'C:\\\\Users\\\\Nicolas\\\\Desktop\\\\Projects\\\\abrechnung\\\\abrechnung\\\\test.py'>"
      ]
     },
     "execution_count": 3,
     "metadata": {},
     "output_type": "execute_result"
    }
   ],
   "source": [
    "reload(test)"
   ]
  },
  {
   "cell_type": "code",
   "execution_count": 4,
   "metadata": {
    "collapsed": false
   },
   "outputs": [
    {
     "name": "stdout",
     "output_type": "stream",
     "text": [
      "[add_event] - cost: 3000, payer: max, participants: ['nicolas', 'max', 'sandrina']\n",
      "[add_event] - cost_per_person: 1000.0, remainder: 0\n",
      "[print_account_data] - Account details: \n",
      "[account_data] - Name: nicolas \t\t| Balance: -1000.0 \n",
      "[account_data] - Name: max \t\t| Balance: 2000.0 \n",
      "[account_data] - Name: sandrina \t\t| Balance: -1000.0 \n",
      "[account_data] - Name: annika \t\t| Balance: 0 \n",
      "\n",
      "[check_balance] - True\n",
      "\n",
      "[add_event] - cost: 2000, payer: max, participants: ['nicolas', 'max', 'sandrina']\n",
      "[add_event] - cost_per_person: 666.0, remainder: 2\n",
      "[add_event] - Extra remainder goes to: sandrina\n",
      "[print_account_data] - Account details: \n",
      "[account_data] - Name: nicolas \t\t| Balance: -1666.0 \n",
      "[account_data] - Name: max \t\t| Balance: 3334.0 \n",
      "[account_data] - Name: sandrina \t\t| Balance: -1668.0 \n",
      "[account_data] - Name: annika \t\t| Balance: 0 \n",
      "\n",
      "[check_balance] - True\n",
      "\n",
      "[add_event] - cost: 5000, payer: max, participants: ['nicolas', 'max', 'sandrina', 'annika']\n",
      "[add_event] - cost_per_person: 1250.0, remainder: 0\n",
      "[print_account_data] - Account details: \n",
      "[account_data] - Name: nicolas \t\t| Balance: -2916.0 \n",
      "[account_data] - Name: max \t\t| Balance: 7084.0 \n",
      "[account_data] - Name: sandrina \t\t| Balance: -2918.0 \n",
      "[account_data] - Name: annika \t\t| Balance: -1250.0 \n",
      "\n",
      "[check_balance] - True\n",
      "\n",
      "[add_event] - cost: 3000, payer: nicolas, participants: ['nicolas', 'max', 'annika']\n",
      "[add_event] - cost_per_person: 1000.0, remainder: 0\n",
      "[print_account_data] - Account details: \n",
      "[account_data] - Name: nicolas \t\t| Balance: -916.0 \n",
      "[account_data] - Name: max \t\t| Balance: 6084.0 \n",
      "[account_data] - Name: sandrina \t\t| Balance: -2918.0 \n",
      "[account_data] - Name: annika \t\t| Balance: -2250.0 \n",
      "\n",
      "[check_balance] - True\n",
      "\n",
      "[add_event] - cost: 6050, payer: nicolas, participants: ['nicolas', 'max', 'sandrina']\n",
      "[add_event] - cost_per_person: 2016.0, remainder: 2\n",
      "[add_event] - Extra remainder goes to: nicolas\n",
      "[print_account_data] - Account details: \n",
      "[account_data] - Name: nicolas \t\t| Balance: 3116.0 \n",
      "[account_data] - Name: max \t\t| Balance: 4068.0 \n",
      "[account_data] - Name: sandrina \t\t| Balance: -4934.0 \n",
      "[account_data] - Name: annika \t\t| Balance: -2250.0 \n",
      "\n",
      "[check_balance] - True\n",
      "\n",
      "[transaction] - Transfer: 3116.0 from: sandrina to: nicolas\n",
      "[transaction] - Transfer: 1818.0 from: sandrina to: max\n",
      "[transaction] - Transfer: 2250.0 from: annika to: max\n"
     ]
    },
    {
     "data": {
      "text/plain": [
       "[print_account_data] - Account details: \n",
       "[account_data] - Name: nicolas \t\t| Balance: 3116.0 \n",
       "[account_data] - Name: max \t\t| Balance: 4068.0 \n",
       "[account_data] - Name: sandrina \t\t| Balance: -4934.0 \n",
       "[account_data] - Name: annika \t\t| Balance: -2250.0 "
      ]
     },
     "execution_count": 4,
     "metadata": {},
     "output_type": "execute_result"
    }
   ],
   "source": [
    "test.gen_test_group()"
   ]
  },
  {
   "cell_type": "code",
   "execution_count": 5,
   "metadata": {
    "collapsed": false
   },
   "outputs": [],
   "source": [
    "mylist = [test.Account('nicolas', 123), test.Account('sandrina', 123), test.Account('maximilian', 123)]"
   ]
  },
  {
   "cell_type": "code",
   "execution_count": 14,
   "metadata": {
    "collapsed": false
   },
   "outputs": [],
   "source": [
    "res = filter(lambda x: x.name == 'nicolas', mylist)"
   ]
  },
  {
   "cell_type": "code",
   "execution_count": 29,
   "metadata": {
    "collapsed": false
   },
   "outputs": [],
   "source": [
    "res_list = list((map(lambda x: (x, test.levenshtein('sandra', x.name)), mylist)))"
   ]
  },
  {
   "cell_type": "code",
   "execution_count": 30,
   "metadata": {
    "collapsed": false
   },
   "outputs": [
    {
     "data": {
      "text/plain": [
       "[(<account.Account at 0x19e856f6748>, 2),\n",
       " (<account.Account at 0x19e856f65f8>, 6),\n",
       " (<account.Account at 0x19e856f6588>, 8)]"
      ]
     },
     "execution_count": 30,
     "metadata": {},
     "output_type": "execute_result"
    }
   ],
   "source": [
    "sorted(res_list, key=lambda x: x[1])"
   ]
  }
 ],
 "metadata": {
  "kernelspec": {
   "display_name": "Python 3",
   "language": "python",
   "name": "python3"
  },
  "language_info": {
   "codemirror_mode": {
    "name": "ipython",
    "version": 3
   },
   "file_extension": ".py",
   "mimetype": "text/x-python",
   "name": "python",
   "nbconvert_exporter": "python",
   "pygments_lexer": "ipython3",
   "version": "3.5.1"
  }
 },
 "nbformat": 4,
 "nbformat_minor": 0
}
